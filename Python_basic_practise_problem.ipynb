{
  "nbformat": 4,
  "nbformat_minor": 0,
  "metadata": {
    "colab": {
      "provenance": [],
      "authorship_tag": "ABX9TyN0JEhNPvzublVMYyhVw3zH",
      "include_colab_link": true
    },
    "kernelspec": {
      "name": "python3",
      "display_name": "Python 3"
    },
    "language_info": {
      "name": "python"
    }
  },
  "cells": [
    {
      "cell_type": "markdown",
      "metadata": {
        "id": "view-in-github",
        "colab_type": "text"
      },
      "source": [
        "<a href=\"https://colab.research.google.com/github/himanjit199/Basic-KNN-/blob/main/Python_basic_practise_problem.ipynb\" target=\"_parent\"><img src=\"https://colab.research.google.com/assets/colab-badge.svg\" alt=\"Open In Colab\"/></a>"
      ]
    },
    {
      "cell_type": "markdown",
      "source": [
        "**Armstrong Number Check**//\n",
        "*Write a function to check if a given number is an Armstrong number*.**"
      ],
      "metadata": {
        "id": "EFx3JbiGUjUZ"
      }
    },
    {
      "cell_type": "code",
      "execution_count": 35,
      "metadata": {
        "id": "QB9msSoAFef2"
      },
      "outputs": [],
      "source": [
        "def Armstrong():\n",
        "    a = input('Enter your number: ')\n",
        "    c = list(map(int, a))\n",
        "    sum = 0\n",
        "    for i in c:\n",
        "        sum += i ** len(a)\n",
        "    if sum == int(a):\n",
        "        return \"Yes\"\n",
        "    else:\n",
        "        return \"No\""
      ]
    },
    {
      "cell_type": "code",
      "source": [
        "Armstrong()"
      ],
      "metadata": {
        "colab": {
          "base_uri": "https://localhost:8080/",
          "height": 53
        },
        "id": "fABE0-o1Fp1c",
        "outputId": "329a32b1-e742-4193-e012-56f280a6e35f"
      },
      "execution_count": 36,
      "outputs": [
        {
          "name": "stdout",
          "output_type": "stream",
          "text": [
            "Enter your number: 153\n"
          ]
        },
        {
          "output_type": "execute_result",
          "data": {
            "text/plain": [
              "'Yes'"
            ],
            "application/vnd.google.colaboratory.intrinsic+json": {
              "type": "string"
            }
          },
          "metadata": {},
          "execution_count": 36
        }
      ]
    },
    {
      "cell_type": "markdown",
      "source": [
        "**Palindrome Check**//\n",
        "*Write a function that checks if a given string is a palindrome (reads the same forward and backward)*."
      ],
      "metadata": {
        "id": "SVaKjGcuVBue"
      }
    },
    {
      "cell_type": "code",
      "source": [
        "def pelindrom():\n",
        "    a = input('enter ur string :')\n",
        "    b = a.replace(\" \",\"\").lower()\n",
        "    if b == b[::-1]:\n",
        "        return \" yes it is penindrom\"\n",
        "    else:\n",
        "         return \"No,it is not\"\n",
        ""
      ],
      "metadata": {
        "id": "3r3Vf_lHN9Dp"
      },
      "execution_count": 9,
      "outputs": []
    },
    {
      "cell_type": "markdown",
      "source": [
        "**FizzBuzz**//\n",
        "*Write a program that prints the numbers from 1 to 100. For multiples of three, print \"Fizz\" instead of the number, and for multiples of five, print \"Buzz\". For numbers which are multiples of both three and five, print \"FizzBuzz\"*."
      ],
      "metadata": {
        "id": "XWTRLuUgVWQ3"
      }
    },
    {
      "cell_type": "code",
      "source": [
        "def fizzbuzz():\n",
        "    a = int(input('enter your number : '))\n",
        "    if a>100:\n",
        "        return \"Not valid number \"\n",
        "    else:\n",
        "        if a%3==0 and a%5==0:\n",
        "            return \"FIzzBuzz\"\n",
        "        elif a%5==0:\n",
        "            return \"BUzz\"\n",
        "        elif a%3==0 :\n",
        "            return \"FIzz\"\n",
        "        else :\n",
        "            return \"not divisble by 3 or 5\""
      ],
      "metadata": {
        "id": "dtfX7F4wN-Dx"
      },
      "execution_count": 10,
      "outputs": []
    },
    {
      "cell_type": "markdown",
      "source": [
        "**Sum of Digits**//\n",
        "*Write a function that takes an integer and returns the sum of its digits*."
      ],
      "metadata": {
        "id": "1PdW5MXfV9bM"
      }
    },
    {
      "cell_type": "code",
      "source": [
        "def sum_digit():\n",
        "    a = int(input('enter ur number :'))\n",
        "    a = str(a)\n",
        "    c=list(map(int,a))\n",
        "    return sum(c)"
      ],
      "metadata": {
        "id": "FRX7ATfOOAK6"
      },
      "execution_count": 11,
      "outputs": []
    },
    {
      "cell_type": "markdown",
      "source": [
        "**Leap year check**"
      ],
      "metadata": {
        "id": "Y8bI0TgLWNk1"
      }
    },
    {
      "cell_type": "code",
      "source": [
        "def leap_year():\n",
        "    a = int(input('enter your year:'))\n",
        "    if (a % 4 == 0 and a % 100 != 0) or (a % 400 == 0):\n",
        "        return True\n",
        "    else:\n",
        "        return False\n",
        ""
      ],
      "metadata": {
        "id": "kxY_wIJgODzv"
      },
      "execution_count": 12,
      "outputs": []
    },
    {
      "cell_type": "markdown",
      "source": [
        "**Find Largest Element**//\n",
        "*Write a function that takes a list of numbers and returns the largest number in the list.*"
      ],
      "metadata": {
        "id": "Xrw-ESX3WXDj"
      }
    },
    {
      "cell_type": "code",
      "source": [
        "def largest_number():\n",
        "    a = input(\"enter ur number with comma separeted:\")\n",
        "    a=a.split(\",\")\n",
        "    b = list(map(int,a))\n",
        "    return max(b)"
      ],
      "metadata": {
        "id": "HGmIFzYGOHXo"
      },
      "execution_count": 13,
      "outputs": []
    },
    {
      "cell_type": "markdown",
      "source": [
        "**Count Vowels**//\n",
        "\n",
        "*Write a function to count the number of vowels in a given string*."
      ],
      "metadata": {
        "id": "FLTpeZIHWd0K"
      }
    },
    {
      "cell_type": "code",
      "source": [
        "def vowel_count():\n",
        "  a = input('enter your string : ')\n",
        "  a = a.lower()\n",
        "  count = 0\n",
        "  for j in a:\n",
        "    if j ==\"a\"or j == \"e\"or j ==\"i\"or j==\"o\"or j==\"u\":\n",
        "      count += 1\n",
        "  return count # The return statement should be outside the loop\n"
      ],
      "metadata": {
        "id": "Y_-a5kDpOKW9"
      },
      "execution_count": 20,
      "outputs": []
    },
    {
      "cell_type": "code",
      "source": [
        "vowel_count()"
      ],
      "metadata": {
        "colab": {
          "base_uri": "https://localhost:8080/"
        },
        "id": "Hr_0Ep2NPhPk",
        "outputId": "c7e6f511-78b4-48c1-e15b-57be2761ed88"
      },
      "execution_count": 21,
      "outputs": [
        {
          "name": "stdout",
          "output_type": "stream",
          "text": [
            "enter your string : himan\n"
          ]
        },
        {
          "output_type": "execute_result",
          "data": {
            "text/plain": [
              "2"
            ]
          },
          "metadata": {},
          "execution_count": 21
        }
      ]
    },
    {
      "cell_type": "markdown",
      "source": [
        "**Generate Random Number**//\n",
        "*Write a function that generates a random number between a given range.*"
      ],
      "metadata": {
        "id": "-Tmv-966WuAK"
      }
    },
    {
      "cell_type": "code",
      "source": [
        "def random_number():\n",
        "  a =int(input(\"enter your minimum Value: \"))\n",
        "  b = int(input(\"enter your maximum value: \"))\n",
        "  if a>b:\n",
        "    return \"not valid\"\n",
        "  else:\n",
        "    import random\n",
        "  return random.randint(a,b)"
      ],
      "metadata": {
        "id": "mD3ICbvHPjK3"
      },
      "execution_count": 29,
      "outputs": []
    },
    {
      "cell_type": "code",
      "source": [
        "random_number()"
      ],
      "metadata": {
        "colab": {
          "base_uri": "https://localhost:8080/"
        },
        "id": "NTeZd23GRjRx",
        "outputId": "0dde4225-ca63-4a43-b1ce-ba9e3684df33"
      },
      "execution_count": 31,
      "outputs": [
        {
          "name": "stdout",
          "output_type": "stream",
          "text": [
            "enter your minimum Value: 2\n",
            "enter your maximum value: 34\n"
          ]
        },
        {
          "output_type": "execute_result",
          "data": {
            "text/plain": [
              "30"
            ]
          },
          "metadata": {},
          "execution_count": 31
        }
      ]
    },
    {
      "cell_type": "markdown",
      "source": [
        "**Simple Calculator**\n",
        "\n",
        "*Write a simple calculator program that performs basic arithmetic operations (+, -, *, /).*"
      ],
      "metadata": {
        "id": "Xnxk7qBmW0Qm"
      }
    },
    {
      "cell_type": "code",
      "source": [
        "def calculator():\n",
        "  a = int(input(\"first number: \"))\n",
        "  b = int(input(\"second number: \"))\n",
        "  op = input(\"operator: \")\n",
        "  if op == \"+\":\n",
        "    print(a+b)\n",
        "  elif op == \"-\":\n",
        "    print(a-b)\n",
        "  elif op == \"*\":\n",
        "    print(a*b)\n",
        "  elif op == \"/\":\n",
        "    print(a/b)\n",
        "  else:\n",
        "    print(\"invalid operator\")"
      ],
      "metadata": {
        "id": "yr1ZfzocS6mm"
      },
      "execution_count": 32,
      "outputs": []
    },
    {
      "cell_type": "code",
      "source": [
        "calculator()"
      ],
      "metadata": {
        "colab": {
          "base_uri": "https://localhost:8080/"
        },
        "id": "uSozuZxxTQCJ",
        "outputId": "957667c5-1319-4e85-a8f5-ed6d005fc242"
      },
      "execution_count": 34,
      "outputs": [
        {
          "output_type": "stream",
          "name": "stdout",
          "text": [
            "first number: 3\n",
            "second number: 6\n",
            "operator: /\n",
            "0.5\n"
          ]
        }
      ]
    }
  ]
}